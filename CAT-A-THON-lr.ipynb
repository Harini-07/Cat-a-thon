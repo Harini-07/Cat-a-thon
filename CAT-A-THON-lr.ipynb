{
 "cells": [
  {
   "cell_type": "code",
   "execution_count": null,
   "id": "1531e1aa",
   "metadata": {},
   "outputs": [],
   "source": [
    "import pandas as pd\n",
    "import matplotlib.pyplot as plt\n",
    "import seaborn as sns\n",
    "import datetime\n",
    "import numpy as np"
   ]
  },
  {
   "cell_type": "code",
   "execution_count": 187,
   "id": "afdcce58",
   "metadata": {},
   "outputs": [],
   "source": [
    "from sklearn.model_selection import train_test_split\n",
    "from sklearn.linear_model import LinearRegression\n",
    "from sklearn.tree import DecisionTreeClassifier\n",
    "from sklearn.preprocessing import StandardScaler\n",
    "from sklearn.linear_model import LogisticRegression\n",
    "from sklearn.metrics import classification_report,f1_score,confusion_matrix"
   ]
  },
  {
   "cell_type": "code",
   "execution_count": 298,
   "id": "671cedd8",
   "metadata": {},
   "outputs": [],
   "source": [
    "df = pd.read_excel(\"CAT_Training_Dataset_V3 File.xlsx\",engine='openpyxl')"
   ]
  },
  {
   "cell_type": "code",
   "execution_count": 301,
   "id": "654e940b",
   "metadata": {},
   "outputs": [],
   "source": [
    "df = df.drop(df[df[\"date\"].apply(lambda x:str(x).isnumeric()== False)][\"ID\"])"
   ]
  },
  {
   "cell_type": "code",
   "execution_count": 302,
   "id": "cfa71135",
   "metadata": {},
   "outputs": [],
   "source": [
    "df[\"units\"] = df[\"units\"].apply(lambda x:int(x))"
   ]
  },
  {
   "cell_type": "code",
   "execution_count": 303,
   "id": "5e622332",
   "metadata": {},
   "outputs": [],
   "source": [
    "df[df[\"svrty_level\"].apply(lambda x:(x>=1 and x<=3)==False)]\n",
    "df = df.drop(512365)"
   ]
  },
  {
   "cell_type": "code",
   "execution_count": 304,
   "id": "55ccf984",
   "metadata": {},
   "outputs": [],
   "source": [
    "day1 = datetime.datetime.fromisoformat('2021-01-01T00:00:00')\n",
    "df[\"DateDiff\"]=df[\"date\"].apply(lambda x:int(x)/1440)"
   ]
  },
  {
   "cell_type": "code",
   "execution_count": 325,
   "id": "57074b9a",
   "metadata": {},
   "outputs": [],
   "source": [
    "df[\"event\"]=df[\"event\"].astype('category')\n",
    "df[\"eve_coded\"]=df[\"event\"].cat.codes\n",
    "df[\"candidate_id\"]=df[\"candidate\"].apply(lambda x:int(x.replace(\"ABCDE\",\"\")))\n",
    "# df.drop([\"candidate\",\"event\"],axis = 1,inplace = True)"
   ]
  },
  {
   "cell_type": "code",
   "execution_count": 513,
   "id": "1fbf1b0d",
   "metadata": {},
   "outputs": [],
   "source": [
    "x = df[[\"candidate_id\",\"units\",\"svrty_level\",\"DateDiff\"]]"
   ]
  },
  {
   "cell_type": "code",
   "execution_count": 516,
   "id": "9e957249",
   "metadata": {},
   "outputs": [],
   "source": [
    "threshold = x.groupby(\"candidate_id\",as_index=True)[\"units\"].max()+(x.groupby(\"candidate_id\",as_index=True)[\"units\"].std()*0.5)"
   ]
  },
  {
   "cell_type": "code",
   "execution_count": 501,
   "id": "d47592aa",
   "metadata": {},
   "outputs": [],
   "source": [
    "pd.DataFrame(threshold).to_csv(\"threshold.csv\")"
   ]
  },
  {
   "cell_type": "code",
   "execution_count": 520,
   "id": "7d08f0ac",
   "metadata": {},
   "outputs": [],
   "source": [
    "XD = x.drop([\"DateDiff\"],axis=1)\n",
    "yd = x[\"DateDiff\"]"
   ]
  },
  {
   "cell_type": "code",
   "execution_count": 521,
   "id": "5b68b8d7",
   "metadata": {},
   "outputs": [],
   "source": [
    "XD_train,XD_test,yd_train,yd_test = train_test_split(XD,yd,test_size = 0.40)"
   ]
  },
  {
   "cell_type": "code",
   "execution_count": 523,
   "id": "e5da51dc",
   "metadata": {},
   "outputs": [],
   "source": [
    "sc_X = StandardScaler()\n",
    "XD_train = sc_X.fit_transform(XD_train)\n",
    "XD_test = sc_X.transform(XD_test)"
   ]
  },
  {
   "cell_type": "code",
   "execution_count": 524,
   "id": "e413ecb9",
   "metadata": {},
   "outputs": [],
   "source": [
    "classifier = LinearRegression()\n",
    "classifier = classifier.fit(XD_train,yd_train)"
   ]
  },
  {
   "cell_type": "code",
   "execution_count": 525,
   "id": "4c9809e5",
   "metadata": {},
   "outputs": [],
   "source": [
    "y_pred = classifier.predict(XD_test)\n"
   ]
  },
  {
   "cell_type": "code",
   "execution_count": 528,
   "id": "79e8f27f",
   "metadata": {},
   "outputs": [],
   "source": [
    "import pickle\n",
    "pickle.dump(classifier,open(\"catathon.sav\", \"wb\"))\n",
    "pickle.dump(sc_X, open(\"scaler.sav\", \"wb\"))"
   ]
  }
 ],
 "metadata": {
  "kernelspec": {
   "display_name": "Python 3",
   "language": "python",
   "name": "python3"
  },
  "language_info": {
   "codemirror_mode": {
    "name": "ipython",
    "version": 3
   },
   "file_extension": ".py",
   "mimetype": "text/x-python",
   "name": "python",
   "nbconvert_exporter": "python",
   "pygments_lexer": "ipython3",
   "version": "3.9.4"
  }
 },
 "nbformat": 4,
 "nbformat_minor": 5
}
