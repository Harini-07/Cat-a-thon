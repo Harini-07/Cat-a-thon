{
 "cells": [
  {
   "cell_type": "code",
   "execution_count": 2,
   "metadata": {
    "scrolled": true
   },
   "outputs": [],
   "source": [
    "#import all the needed dependancies\n",
    "import pandas as pd\n",
    "import matplotlib.pyplot as plt\n",
    "import seaborn as sns\n",
    "import numpy as np\n",
    "from sklearn.linear_model import LinearRegression\n",
    "import time\n",
    "from IPython.display import clear_output"
   ]
  },
  {
   "cell_type": "code",
   "execution_count": 3,
   "metadata": {
    "scrolled": true
   },
   "outputs": [],
   "source": [
    "def CleanData(df):\n",
    "    #To remove entries which have inappropriate date\n",
    "    l = list(df['date'])\n",
    "    for s in l:\n",
    "        if type(s) is not int:\n",
    "            df = df.drop(l.index(s))\n",
    "    #To remove entries which have a severity level of 0\n",
    "    df = df.drop(int(df[df['svrty_level']==0]['ID']))\n",
    "    \n",
    "    #To remove candidates whose units are always the same. we assumed them to be junk!\n",
    "    SegDataFrames = SeggregateByCandidate(df)\n",
    "    for i in SegDataFrames.keys():\n",
    "        Y = list(SegDataFrames[i]['df']['units'])\n",
    "        if(max(Y)==min(Y)):\n",
    "            df = df[df['candidate']!=i]\n",
    "    return df"
   ]
  },
  {
   "cell_type": "code",
   "execution_count": 4,
   "metadata": {
    "scrolled": true
   },
   "outputs": [],
   "source": [
    "def SeggregateByCandidate(df):\n",
    "    DataFrames = {}\n",
    "    #Seggregate the data into individual and separate data frames based on their candidate names\n",
    "    keys = set(df['candidate'])\n",
    "    for key in keys:\n",
    "        temp = df[df['candidate']==key]\n",
    "        DataFrames[key]= {}\n",
    "        DataFrames[key]['df'] = temp\n",
    "        DataFrames[key]['model'] = None\n",
    "    return DataFrames"
   ]
  },
  {
   "cell_type": "code",
   "execution_count": 32,
   "metadata": {
    "scrolled": true
   },
   "outputs": [],
   "source": [
    "def PlotCandidateUnitVsTime(candidate):\n",
    "    #Collect all date values from the data frame.\n",
    "    X = list(SegDataFrames[candidate]['df']['date'])\n",
    "    #Collect all the unit values from the data frame.\n",
    "    Y = list(SegDataFrames[candidate]['df']['units'])\n",
    "    #Calculate the threshold of the observed trend.\n",
    "    t = Threshold(candidate)\n",
    "    #Plot the graph\n",
    "    plt.plot(X,Y,'b')\n",
    "    plt.plot(X,[t]*len(X),'r',ls=('dashed'), lw=2)\n",
    "    plt.xlabel(\"Date\")\n",
    "    plt.ylabel(\"Units\")\n",
    "    plt.title(candidate)\n",
    "    plt.legend([\"Unit Trend\",\"Threshold\"],loc=\"lower right\")\n",
    "    plt.show()\n",
    "    "
   ]
  },
  {
   "cell_type": "code",
   "execution_count": 6,
   "metadata": {
    "scrolled": true
   },
   "outputs": [],
   "source": [
    "def Threshold(candidate):\n",
    "    #Acquire the unit values from the data frame\n",
    "    Y = list(SegDataFrames[candidate]['df']['units'])\n",
    "    #Calculate the standard deviation of the units\n",
    "    sigma = (np.var(Y))**0.5\n",
    "    #Set threshold as given below\n",
    "    Threshold = max(Y) + sigma*0.5\n",
    "    return Threshold"
   ]
  },
  {
   "cell_type": "code",
   "execution_count": 7,
   "metadata": {},
   "outputs": [],
   "source": [
    "def VisualiseCandidates(SegDataFrames):\n",
    "    keys = sorted(SegDataFrames.keys())\n",
    "    #Display the graphs of units vs date like a canvas with an interval of 0.5 seconds\n",
    "    for key in keys:\n",
    "        PlotCandidateUnitVsTime(key)\n",
    "        time.sleep(0.5)\n",
    "        clear_output(wait=True)"
   ]
  },
  {
   "cell_type": "code",
   "execution_count": 8,
   "metadata": {},
   "outputs": [],
   "source": [
    "def TrainModels(SegDataFrames):\n",
    "    keys = sorted(SegDataFrames.keys())\n",
    "    for key in keys:\n",
    "        LinReg = LinearRegression()\n",
    "        #Train the linear regression model with 3 parameters\n",
    "        X = SegDataFrames[key]['df'][['units','occur_count','svrty_level']]\n",
    "        Y = SegDataFrames[key]['df']['date']\n",
    "        LinReg.fit(X,Y)\n",
    "        SegDataFrames[key]['model'] = LinReg\n",
    "        #store the trained model into the dictionary of seggregated data frames."
   ]
  },
  {
   "cell_type": "code",
   "execution_count": 22,
   "metadata": {},
   "outputs": [],
   "source": [
    "def PredictFailure(candidate,units,occur_count,severity):\n",
    "    #calculate the tentative time when the failure would occur\n",
    "    a = float(SegDataFrames[candidate]['model'].predict([[Threshold(candidate),1,1]]))\n",
    "    #calculate the tentative current time with the given data\n",
    "    b = float(SegDataFrames[candidate]['model'].predict([[units,occur_count,severity]]))\n",
    "    #return the time difference which is assumed to be in minutes, converted to number of days until failure\n",
    "    return round(abs(a-b)/1440,1) # days to failure"
   ]
  },
  {
   "cell_type": "code",
   "execution_count": 83,
   "metadata": {},
   "outputs": [],
   "source": [
    "def CalculateSlope(candidate):\n",
    "    dates = list(SegDataFrames[candidate]['df']['date'])\n",
    "    units = list(SegDataFrames[candidate]['df']['units'])\n",
    "    dslopes = []\n",
    "    uslopes = []\n",
    "    for i in range(len(dates)-1):\n",
    "        if(dates[i]!=dates[i+1]):\n",
    "            dslopes.append((dates[i+1]-dates[i]))\n",
    "            uslopes.append((units[i+1]-units[i]))\n",
    "    ndslopes = []\n",
    "    nuslopes = []\n",
    "    np.mean(dslopes)\n",
    "    for i in range(len(dslopes)):\n",
    "        if dslopes[i]<=np.mean(dslopes):\n",
    "            ndslopes.append(dslopes[i])\n",
    "            nuslopes.append(uslopes[i])\n",
    "    slopes = []\n",
    "    for i in range(len(ndslopes)):\n",
    "        slopes.append(nuslopes[i]/ndslopes[i])\n",
    "    return np.mean(slopes)"
   ]
  },
  {
   "cell_type": "code",
   "execution_count": 87,
   "metadata": {},
   "outputs": [],
   "source": [
    "def PredictRunningTimeFailure(candidate,units):\n",
    "    slope = CalculateSlope(candidate)\n",
    "    dely = Threshold(candidate)-units\n",
    "    time = dely / slope\n",
    "    return round(time/60,2)#return value in hours"
   ]
  },
  {
   "cell_type": "code",
   "execution_count": 9,
   "metadata": {
    "scrolled": true
   },
   "outputs": [],
   "source": [
    "df = pd.read_excel(\"CAT_Training_Dataset_V3 File.xlsx\",engine='openpyxl')"
   ]
  },
  {
   "cell_type": "code",
   "execution_count": 10,
   "metadata": {
    "scrolled": true
   },
   "outputs": [],
   "source": [
    "CleanedDataFrame = CleanData(df)"
   ]
  },
  {
   "cell_type": "code",
   "execution_count": 11,
   "metadata": {
    "scrolled": true
   },
   "outputs": [],
   "source": [
    "SegDataFrames = SeggregateByCandidate(CleanedDataFrame)"
   ]
  },
  {
   "cell_type": "code",
   "execution_count": 28,
   "metadata": {},
   "outputs": [],
   "source": [
    "TrainModels(SegDataFrames)"
   ]
  },
  {
   "cell_type": "code",
   "execution_count": 97,
   "metadata": {
    "scrolled": true
   },
   "outputs": [
    {
     "name": "stdout",
     "output_type": "stream",
     "text": [
      "Enter Candidate name: ABCDE00033\n",
      "Enter units: 3341\n",
      "Enter occurence count: 2\n",
      "Enter severity level: 2\n",
      "Your machine will fail in approximately  4.2  days!\n",
      "Would you like to continue?(y/n): n\n"
     ]
    }
   ],
   "source": [
    "while(True):\n",
    "    candidate = input(\"Enter Candidate name: \")\n",
    "    units = eval(input(\"Enter units: \"))\n",
    "    occ = eval(input(\"Enter occurence count: \"))\n",
    "    sev = eval(input(\"Enter severity level: \"))\n",
    "    \n",
    "    time = PredictFailure(candidate,units,occ,sev)\n",
    "    print(\"Your machine will fail in approximately \",time,\" days!\")\n",
    "    \n",
    "    if(input(\"Would you like to continue?(y/n): \")!='y'):\n",
    "        break"
   ]
  },
  {
   "cell_type": "code",
   "execution_count": 38,
   "metadata": {
    "scrolled": false
   },
   "outputs": [
    {
     "data": {
      "image/png": "[encoded data removed]",
      "text/plain": [
       "<Figure size 432x288 with 1 Axes>"
      ]
     },
     "metadata": {
      "needs_background": "light"
     },
     "output_type": "display_data"
    }
   ],
   "source": [
    "PlotCandidateUnitVsTime('ABCDE00208')"
   ]
  },
  {
   "cell_type": "code",
   "execution_count": 91,
   "metadata": {},
   "outputs": [
    {
     "data": {
      "text/plain": [
       "7.796776729559749"
      ]
     },
     "execution_count": 91,
     "metadata": {},
     "output_type": "execute_result"
    }
   ],
   "source": [
    "CalculateSlope('ABCDE00208')"
   ]
  },
  {
   "cell_type": "code",
   "execution_count": 102,
   "metadata": {},
   "outputs": [
    {
     "name": "stdout",
     "output_type": "stream",
     "text": [
      "Enter Candidate name: ABCDE00024\n",
      "Enter units: 3500\n",
      "Your machine will fail in approximately  43.05  hours, if run continuously!\n",
      "Would you like to continue?(y/n): n\n"
     ]
    }
   ],
   "source": [
    "while(True):\n",
    "    candidate = input(\"Enter Candidate name: \")\n",
    "    units = eval(input(\"Enter units: \"))\n",
    "\n",
    "    \n",
    "    time = PredictRunningTimeFailure(candidate,units)\n",
    "    print(\"Your machine will fail in approximately \",time,\" hours, if run continuously!\")\n",
    "    \n",
    "    if(input(\"Would you like to continue?(y/n): \")!='y'):\n",
    "        break"
   ]
  },
  {
   "cell_type": "code",
   "execution_count": 103,
   "metadata": {},
   "outputs": [
    {
     "data": {
      "image/png": "[encoded data removed]",
      "text/plain": [
       "<Figure size 432x288 with 1 Axes>"
      ]
     },
     "metadata": {
      "needs_background": "light"
     },
     "output_type": "display_data"
    }
   ],
   "source": [
    "PlotCandidateUnitVsTime('ABCDE00024')"
   ]
  },
  {
   "cell_type": "code",
   "execution_count": 104,
   "metadata": {},
   "outputs": [
    {
     "data": {
      "text/plain": [
       "4.85946358093804"
      ]
     },
     "execution_count": 104,
     "metadata": {},
     "output_type": "execute_result"
    }
   ],
   "source": [
    "CalculateSlope('ABCDE00024')"
   ]
  }
 ],
 "metadata": {
  "kernelspec": {
   "display_name": "Python 3",
   "language": "python",
   "name": "python3"
  },
  "language_info": {
   "codemirror_mode": {
    "name": "ipython",
    "version": 3
   },
   "file_extension": ".py",
   "mimetype": "text/x-python",
   "name": "python",
   "nbconvert_exporter": "python",
   "pygments_lexer": "ipython3",
   "version": "3.9.1"
  },
  "varInspector": {
   "cols": {
    "lenName": 16,
    "lenType": 16,
    "lenVar": 40
   },
   "kernels_config": {
    "python": {
     "delete_cmd_postfix": "",
     "delete_cmd_prefix": "del ",
     "library": "var_list.py",
     "varRefreshCmd": "print(var_dic_list())"
    },
    "r": {
     "delete_cmd_postfix": ") ",
     "delete_cmd_prefix": "rm(",
     "library": "var_list.r",
     "varRefreshCmd": "cat(var_dic_list()) "
    }
   },
   "types_to_exclude": [
    "module",
    "function",
    "builtin_function_or_method",
    "instance",
    "_Feature"
   ],
   "window_display": false
  }
 },
 "nbformat": 4,
 "nbformat_minor": 4
}
